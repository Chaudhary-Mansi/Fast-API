{
 "cells": [
  {
   "cell_type": "code",
   "execution_count": 1,
   "id": "750b5841-6fc8-47a9-928a-57bde153a955",
   "metadata": {},
   "outputs": [
    {
     "name": "stdout",
     "output_type": "stream",
     "text": [
      "Collecting fastapi\n",
      "  Downloading fastapi-0.115.4-py3-none-any.whl.metadata (27 kB)\n",
      "Collecting motor\n",
      "  Downloading motor-3.6.0-py3-none-any.whl.metadata (21 kB)\n",
      "Collecting uvicorn\n",
      "  Downloading uvicorn-0.32.0-py3-none-any.whl.metadata (6.6 kB)\n",
      "Requirement already satisfied: nest_asyncio in c:\\anaconda\\lib\\site-packages (1.6.0)\n",
      "Requirement already satisfied: pydantic[dotenv] in c:\\anaconda\\lib\\site-packages (2.5.3)\n",
      "Collecting starlette<0.42.0,>=0.40.0 (from fastapi)\n",
      "  Downloading starlette-0.41.2-py3-none-any.whl.metadata (6.0 kB)\n",
      "Requirement already satisfied: typing-extensions>=4.8.0 in c:\\anaconda\\lib\\site-packages (from fastapi) (4.11.0)\n",
      "Collecting pymongo<4.10,>=4.9 (from motor)\n",
      "  Downloading pymongo-4.9.2-cp312-cp312-win_amd64.whl.metadata (22 kB)\n",
      "Requirement already satisfied: annotated-types>=0.4.0 in c:\\anaconda\\lib\\site-packages (from pydantic[dotenv]) (0.6.0)\n",
      "Requirement already satisfied: pydantic-core==2.14.6 in c:\\anaconda\\lib\\site-packages (from pydantic[dotenv]) (2.14.6)\n",
      "Requirement already satisfied: click>=7.0 in c:\\anaconda\\lib\\site-packages (from uvicorn) (8.1.7)\n",
      "Requirement already satisfied: h11>=0.8 in c:\\anaconda\\lib\\site-packages (from uvicorn) (0.14.0)\n",
      "Requirement already satisfied: colorama in c:\\anaconda\\lib\\site-packages (from click>=7.0->uvicorn) (0.4.6)\n",
      "Collecting dnspython<3.0.0,>=1.16.0 (from pymongo<4.10,>=4.9->motor)\n",
      "  Downloading dnspython-2.7.0-py3-none-any.whl.metadata (5.8 kB)\n",
      "Requirement already satisfied: anyio<5,>=3.4.0 in c:\\anaconda\\lib\\site-packages (from starlette<0.42.0,>=0.40.0->fastapi) (4.2.0)\n",
      "Requirement already satisfied: idna>=2.8 in c:\\anaconda\\lib\\site-packages (from anyio<5,>=3.4.0->starlette<0.42.0,>=0.40.0->fastapi) (3.7)\n",
      "Requirement already satisfied: sniffio>=1.1 in c:\\anaconda\\lib\\site-packages (from anyio<5,>=3.4.0->starlette<0.42.0,>=0.40.0->fastapi) (1.3.0)\n",
      "Downloading fastapi-0.115.4-py3-none-any.whl (94 kB)\n",
      "   ---------------------------------------- 0.0/94.7 kB ? eta -:--:--\n",
      "   ----------------- ---------------------- 41.0/94.7 kB ? eta -:--:--\n",
      "   ---------------------------------------- 94.7/94.7 kB 1.3 MB/s eta 0:00:00\n",
      "Downloading motor-3.6.0-py3-none-any.whl (74 kB)\n",
      "   ---------------------------------------- 0.0/74.8 kB ? eta -:--:--\n",
      "   ---------------------------------------- 74.8/74.8 kB 4.0 MB/s eta 0:00:00\n",
      "Downloading uvicorn-0.32.0-py3-none-any.whl (63 kB)\n",
      "   ---------------------------------------- 0.0/63.7 kB ? eta -:--:--\n",
      "   ---------------------------------------- 63.7/63.7 kB 3.3 MB/s eta 0:00:00\n",
      "Downloading pymongo-4.9.2-cp312-cp312-win_amd64.whl (924 kB)\n",
      "   ---------------------------------------- 0.0/924.9 kB ? eta -:--:--\n",
      "   ----- ---------------------------------- 122.9/924.9 kB ? eta -:--:--\n",
      "   ---------------- ----------------------- 378.9/924.9 kB 5.9 MB/s eta 0:00:01\n",
      "   -------------------------------------- - 890.9/924.9 kB 8.1 MB/s eta 0:00:01\n",
      "   ---------------------------------------- 924.9/924.9 kB 6.5 MB/s eta 0:00:00\n",
      "Downloading starlette-0.41.2-py3-none-any.whl (73 kB)\n",
      "   ---------------------------------------- 0.0/73.3 kB ? eta -:--:--\n",
      "   ---------------------------------------- 73.3/73.3 kB 4.2 MB/s eta 0:00:00\n",
      "Downloading dnspython-2.7.0-py3-none-any.whl (313 kB)\n",
      "   ---------------------------------------- 0.0/313.6 kB ? eta -:--:--\n",
      "   --------------------------------------- 313.6/313.6 kB 20.2 MB/s eta 0:00:00\n",
      "Installing collected packages: dnspython, uvicorn, starlette, pymongo, motor, fastapi\n",
      "Successfully installed dnspython-2.7.0 fastapi-0.115.4 motor-3.6.0 pymongo-4.9.2 starlette-0.41.2 uvicorn-0.32.0\n"
     ]
    },
    {
     "name": "stderr",
     "output_type": "stream",
     "text": [
      "WARNING: pydantic 2.5.3 does not provide the extra 'dotenv'\n"
     ]
    }
   ],
   "source": [
    "!pip install fastapi motor pydantic[dotenv] uvicorn nest_asyncio"
   ]
  },
  {
   "cell_type": "code",
   "execution_count": 19,
   "id": "3071e9c5-7e79-4897-8f63-d09e62883fd6",
   "metadata": {},
   "outputs": [],
   "source": [
    "# Use nest_asyncio for Running FastAPI\n",
    "import nest_asyncio\n",
    "nest_asyncio.apply()"
   ]
  },
  {
   "cell_type": "code",
   "execution_count": 21,
   "id": "26021405-6a23-4830-874f-93a76cd4093b",
   "metadata": {},
   "outputs": [],
   "source": [
    "from motor.motor_asyncio import AsyncIOMotorClient\n",
    "\n",
    "MONGO_DB_URL = \"mongodb+srv://Mansi:<Sample>@cluster0.1ktc5.mongodb.net/?retryWrites=true&w=majority&appName=Cluster0\"\n",
    "client = AsyncIOMotorClient(MONGO_DB_URL)\n",
    "database = client.school_blog\n",
    "blog_collection = database.get_collection(\"blogs\")"
   ]
  },
  {
   "cell_type": "code",
   "execution_count": 23,
   "id": "63003d03-460d-4e83-bf0d-a677a68236fc",
   "metadata": {},
   "outputs": [],
   "source": [
    "from pydantic import BaseModel, Field\n",
    "from typing import Optional\n",
    "from datetime import datetime\n",
    "\n",
    "class BlogModel(BaseModel):\n",
    "    id: Optional[str] = None\n",
    "    title: str = Field(..., min_length=1, max_length=100)\n",
    "    content: str = Field(..., min_length=1)\n",
    "    author: str = Field(..., min_length=1, max_length=50)\n",
    "    created_at: datetime = Field(default_factory=datetime.now)\n",
    "    updated_at: datetime = Field(default_factory=datetime.now)\n",
    "\n",
    "class UpdateBlogModel(BaseModel):\n",
    "    title: Optional[str]\n",
    "    content: Optional[str]\n",
    "    author: Optional[str]\n",
    "    updated_at: Optional[datetime] = None\n"
   ]
  },
  {
   "cell_type": "code",
   "execution_count": 27,
   "id": "470bc814-db57-48d6-aa8f-5a40c2285c3f",
   "metadata": {},
   "outputs": [],
   "source": [
    "from fastapi import FastAPI, HTTPException, Body\n",
    "from bson import ObjectId\n",
    "from datetime import datetime\n",
    "\n",
    "app = FastAPI()\n",
    "\n",
    "# Helper function to convert MongoDB objects to JSON-friendly format\n",
    "def blog_helper(blog) -> dict:\n",
    "    return {\n",
    "        \"id\": str(blog[\"_id\"]),\n",
    "        \"title\": blog[\"title\"],\n",
    "        \"content\": blog[\"content\"],\n",
    "        \"author\": blog[\"author\"],\n",
    "        \"created_at\": blog.get(\"created_at\"),\n",
    "        \"updated_at\": blog.get(\"updated_at\")\n",
    "    }\n"
   ]
  },
  {
   "cell_type": "code",
   "execution_count": 29,
   "id": "8eae6f8a-30f7-4653-baca-a459b8de49f8",
   "metadata": {},
   "outputs": [],
   "source": [
    "# Add CRUD endpoints\n",
    "# create a new blog post\n",
    "\n",
    "@app.post(\"/blog\", response_description=\"Add a new blog\")\n",
    "async def create_blog(blog: BlogModel = Body(...)):\n",
    "    blog_data = blog.dict()\n",
    "    blog_data[\"created_at\"] = datetime.now()\n",
    "    blog_data[\"updated_at\"] = datetime.now()\n",
    "    new_blog = await blog_collection.insert_one(blog_data)\n",
    "    created_blog = await blog_collection.find_one({\"_id\": new_blog.inserted_id})\n",
    "    return blog_helper(created_blog)\n",
    "\n"
   ]
  },
  {
   "cell_type": "code",
   "execution_count": 31,
   "id": "005b12bf-7210-4894-8c6f-7e879064f5b6",
   "metadata": {},
   "outputs": [],
   "source": [
    "# GET all blogs\n",
    "\n",
    "@app.get(\"/blogs\", response_description=\"List all blogs\")\n",
    "async def get_blogs():\n",
    "    blogs = []\n",
    "    async for blog in blog_collection.find():\n",
    "        blogs.append(blog_helper(blog))\n",
    "    return blogs\n"
   ]
  },
  {
   "cell_type": "code",
   "execution_count": 33,
   "id": "57cc9b02-d9ad-4c28-91da-8abbe041a663",
   "metadata": {},
   "outputs": [],
   "source": [
    "# Get a Single Blog Post by ID\n",
    "\n",
    "@app.get(\"/blog/{id}\", response_description=\"Get a single blog by ID\")\n",
    "async def get_blog(id: str):\n",
    "    blog = await blog_collection.find_one({\"_id\": ObjectId(id)})\n",
    "    if blog:\n",
    "        return blog_helper(blog)\n",
    "    raise HTTPException(status_code=404, detail=\"Blog not found\")\n"
   ]
  },
  {
   "cell_type": "code",
   "execution_count": null,
   "id": "ab362ad1-ea74-49b5-bce8-21005fab20e4",
   "metadata": {},
   "outputs": [],
   "source": [
    "# Update a Blog Post by ID\n",
    "\n",
    "@app.put(\"/blog/{id}\", response_description=\"Update a blog\")\n",
    "async def update_blog(id: str, blog: UpdateBlogModel):\n",
    "    updated_blog = {k: v for k, v in blog.dict().items() if v is not None}\n",
    "    if updated_blog:\n",
    "        result = await blog_collection.update_one({\"_id\": ObjectId(id)}, {\"$set\": updated_blog})\n",
    "        if result.modified_count == 1:\n",
    "            updated_blog = await blog_collection.find_one({\"_id\": ObjectId(id)})\n",
    "            return blog_helper(updated_blog)\n",
    "    raise HTTPException(status_code=404, detail=\"Blog not found\")"
   ]
  },
  {
   "cell_type": "code",
   "execution_count": null,
   "id": "240e1759-cca3-472d-80e0-259157afde12",
   "metadata": {},
   "outputs": [],
   "source": [
    "# Delete a Blog Post by ID\n",
    "\n",
    "@app.delete(\"/blog/{id}\", response_description=\"Delete a blog\")\n",
    "async def delete_blog(id: str):\n",
    "    result = await blog_collection.delete_one({\"_id\": ObjectId(id)})\n",
    "    if result.deleted_count == 1:\n",
    "        return {\"message\": \"Blog deleted successfully\"}\n",
    "    raise HTTPException(status_code=404, detail=\"Blog not found\")\n"
   ]
  },
  {
   "cell_type": "code",
   "execution_count": null,
   "id": "fd4876a6-d1b4-43e4-a26a-40aefbabac56",
   "metadata": {},
   "outputs": [],
   "source": [
    "import uvicorn\n",
    "\n",
    "# Run FastAPI \n",
    "if __name__ == \"__main__\":\n",
    "    uvicorn.run(app, host=\"127.0.0.1\", port=8000)"
   ]
  },
  {
   "cell_type": "code",
   "execution_count": null,
   "id": "f0744b12-72a0-4936-8fd6-6a93397e6628",
   "metadata": {},
   "outputs": [],
   "source": []
  }
 ],
 "metadata": {
  "kernelspec": {
   "display_name": "Python 3 (ipykernel)",
   "language": "python",
   "name": "python3"
  },
  "language_info": {
   "codemirror_mode": {
    "name": "ipython",
    "version": 3
   },
   "file_extension": ".py",
   "mimetype": "text/x-python",
   "name": "python",
   "nbconvert_exporter": "python",
   "pygments_lexer": "ipython3",
   "version": "3.12.4"
  }
 },
 "nbformat": 4,
 "nbformat_minor": 5
}
